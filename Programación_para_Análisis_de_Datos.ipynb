{
  "nbformat": 4,
  "nbformat_minor": 0,
  "metadata": {
    "colab": {
      "provenance": [],
      "include_colab_link": true
    },
    "kernelspec": {
      "name": "python3",
      "display_name": "Python 3"
    },
    "language_info": {
      "name": "python"
    }
  },
  "cells": [
    {
      "cell_type": "markdown",
      "metadata": {
        "id": "view-in-github",
        "colab_type": "text"
      },
      "source": [
        "<a href=\"https://colab.research.google.com/github/jessmoncada/Actividad2_Frameworks/blob/main/Programaci%C3%B3n_para_An%C3%A1lisis_de_Datos.ipynb\" target=\"_parent\"><img src=\"https://colab.research.google.com/assets/colab-badge.svg\" alt=\"Open In Colab\"/></a>"
      ]
    },
    {
      "cell_type": "code",
      "source": [
        "!pip install selenium\n",
        "!pip install beautifulsoup4\n",
        "!pip install scrapy"
      ],
      "metadata": {
        "colab": {
          "base_uri": "https://localhost:8080/"
        },
        "id": "Eh5EEm5sXiK3",
        "outputId": "c163d803-947e-48cd-c211-e0b69fd29bb1"
      },
      "execution_count": null,
      "outputs": [
        {
          "output_type": "stream",
          "name": "stdout",
          "text": [
            "Requirement already satisfied: selenium in /usr/local/lib/python3.10/dist-packages (4.26.1)\n",
            "Requirement already satisfied: urllib3<3,>=1.26 in /usr/local/lib/python3.10/dist-packages (from urllib3[socks]<3,>=1.26->selenium) (2.2.3)\n",
            "Requirement already satisfied: trio~=0.17 in /usr/local/lib/python3.10/dist-packages (from selenium) (0.27.0)\n",
            "Requirement already satisfied: trio-websocket~=0.9 in /usr/local/lib/python3.10/dist-packages (from selenium) (0.11.1)\n",
            "Requirement already satisfied: certifi>=2021.10.8 in /usr/local/lib/python3.10/dist-packages (from selenium) (2024.8.30)\n",
            "Requirement already satisfied: typing_extensions~=4.9 in /usr/local/lib/python3.10/dist-packages (from selenium) (4.12.2)\n",
            "Requirement already satisfied: websocket-client~=1.8 in /usr/local/lib/python3.10/dist-packages (from selenium) (1.8.0)\n",
            "Requirement already satisfied: attrs>=23.2.0 in /usr/local/lib/python3.10/dist-packages (from trio~=0.17->selenium) (24.2.0)\n",
            "Requirement already satisfied: sortedcontainers in /usr/local/lib/python3.10/dist-packages (from trio~=0.17->selenium) (2.4.0)\n",
            "Requirement already satisfied: idna in /usr/local/lib/python3.10/dist-packages (from trio~=0.17->selenium) (3.10)\n",
            "Requirement already satisfied: outcome in /usr/local/lib/python3.10/dist-packages (from trio~=0.17->selenium) (1.3.0.post0)\n",
            "Requirement already satisfied: sniffio>=1.3.0 in /usr/local/lib/python3.10/dist-packages (from trio~=0.17->selenium) (1.3.1)\n",
            "Requirement already satisfied: exceptiongroup in /usr/local/lib/python3.10/dist-packages (from trio~=0.17->selenium) (1.2.2)\n",
            "Requirement already satisfied: wsproto>=0.14 in /usr/local/lib/python3.10/dist-packages (from trio-websocket~=0.9->selenium) (1.2.0)\n",
            "Requirement already satisfied: pysocks!=1.5.7,<2.0,>=1.5.6 in /usr/local/lib/python3.10/dist-packages (from urllib3[socks]<3,>=1.26->selenium) (1.7.1)\n",
            "Requirement already satisfied: h11<1,>=0.9.0 in /usr/local/lib/python3.10/dist-packages (from wsproto>=0.14->trio-websocket~=0.9->selenium) (0.14.0)\n",
            "Requirement already satisfied: beautifulsoup4 in /usr/local/lib/python3.10/dist-packages (4.12.3)\n",
            "Requirement already satisfied: soupsieve>1.2 in /usr/local/lib/python3.10/dist-packages (from beautifulsoup4) (2.6)\n",
            "Requirement already satisfied: scrapy in /usr/local/lib/python3.10/dist-packages (2.11.2)\n",
            "Requirement already satisfied: Twisted>=18.9.0 in /usr/local/lib/python3.10/dist-packages (from scrapy) (24.10.0)\n",
            "Requirement already satisfied: cryptography>=36.0.0 in /usr/local/lib/python3.10/dist-packages (from scrapy) (43.0.3)\n",
            "Requirement already satisfied: cssselect>=0.9.1 in /usr/local/lib/python3.10/dist-packages (from scrapy) (1.2.0)\n",
            "Requirement already satisfied: itemloaders>=1.0.1 in /usr/local/lib/python3.10/dist-packages (from scrapy) (1.3.2)\n",
            "Requirement already satisfied: parsel>=1.5.0 in /usr/local/lib/python3.10/dist-packages (from scrapy) (1.9.1)\n",
            "Requirement already satisfied: pyOpenSSL>=21.0.0 in /usr/local/lib/python3.10/dist-packages (from scrapy) (24.2.1)\n",
            "Requirement already satisfied: queuelib>=1.4.2 in /usr/local/lib/python3.10/dist-packages (from scrapy) (1.7.0)\n",
            "Requirement already satisfied: service-identity>=18.1.0 in /usr/local/lib/python3.10/dist-packages (from scrapy) (24.2.0)\n",
            "Requirement already satisfied: w3lib>=1.17.0 in /usr/local/lib/python3.10/dist-packages (from scrapy) (2.2.1)\n",
            "Requirement already satisfied: zope.interface>=5.1.0 in /usr/local/lib/python3.10/dist-packages (from scrapy) (7.1.1)\n",
            "Requirement already satisfied: protego>=0.1.15 in /usr/local/lib/python3.10/dist-packages (from scrapy) (0.3.1)\n",
            "Requirement already satisfied: itemadapter>=0.1.0 in /usr/local/lib/python3.10/dist-packages (from scrapy) (0.9.0)\n",
            "Requirement already satisfied: setuptools in /usr/local/lib/python3.10/dist-packages (from scrapy) (75.1.0)\n",
            "Requirement already satisfied: packaging in /usr/local/lib/python3.10/dist-packages (from scrapy) (24.1)\n",
            "Requirement already satisfied: tldextract in /usr/local/lib/python3.10/dist-packages (from scrapy) (5.1.2)\n",
            "Requirement already satisfied: lxml>=4.4.1 in /usr/local/lib/python3.10/dist-packages (from scrapy) (5.3.0)\n",
            "Requirement already satisfied: defusedxml>=0.7.1 in /usr/local/lib/python3.10/dist-packages (from scrapy) (0.7.1)\n",
            "Requirement already satisfied: PyDispatcher>=2.0.5 in /usr/local/lib/python3.10/dist-packages (from scrapy) (2.0.7)\n",
            "Requirement already satisfied: cffi>=1.12 in /usr/local/lib/python3.10/dist-packages (from cryptography>=36.0.0->scrapy) (1.17.1)\n",
            "Requirement already satisfied: jmespath>=0.9.5 in /usr/local/lib/python3.10/dist-packages (from itemloaders>=1.0.1->scrapy) (1.0.1)\n",
            "Requirement already satisfied: attrs>=19.1.0 in /usr/local/lib/python3.10/dist-packages (from service-identity>=18.1.0->scrapy) (24.2.0)\n",
            "Requirement already satisfied: pyasn1 in /usr/local/lib/python3.10/dist-packages (from service-identity>=18.1.0->scrapy) (0.6.1)\n",
            "Requirement already satisfied: pyasn1-modules in /usr/local/lib/python3.10/dist-packages (from service-identity>=18.1.0->scrapy) (0.4.1)\n",
            "Requirement already satisfied: automat>=24.8.0 in /usr/local/lib/python3.10/dist-packages (from Twisted>=18.9.0->scrapy) (24.8.1)\n",
            "Requirement already satisfied: constantly>=15.1 in /usr/local/lib/python3.10/dist-packages (from Twisted>=18.9.0->scrapy) (23.10.4)\n",
            "Requirement already satisfied: hyperlink>=17.1.1 in /usr/local/lib/python3.10/dist-packages (from Twisted>=18.9.0->scrapy) (21.0.0)\n",
            "Requirement already satisfied: incremental>=24.7.0 in /usr/local/lib/python3.10/dist-packages (from Twisted>=18.9.0->scrapy) (24.7.2)\n",
            "Requirement already satisfied: typing-extensions>=4.2.0 in /usr/local/lib/python3.10/dist-packages (from Twisted>=18.9.0->scrapy) (4.12.2)\n",
            "Requirement already satisfied: idna in /usr/local/lib/python3.10/dist-packages (from tldextract->scrapy) (3.10)\n",
            "Requirement already satisfied: requests>=2.1.0 in /usr/local/lib/python3.10/dist-packages (from tldextract->scrapy) (2.32.3)\n",
            "Requirement already satisfied: requests-file>=1.4 in /usr/local/lib/python3.10/dist-packages (from tldextract->scrapy) (2.1.0)\n",
            "Requirement already satisfied: filelock>=3.0.8 in /usr/local/lib/python3.10/dist-packages (from tldextract->scrapy) (3.16.1)\n",
            "Requirement already satisfied: pycparser in /usr/local/lib/python3.10/dist-packages (from cffi>=1.12->cryptography>=36.0.0->scrapy) (2.22)\n",
            "Requirement already satisfied: tomli in /usr/local/lib/python3.10/dist-packages (from incremental>=24.7.0->Twisted>=18.9.0->scrapy) (2.0.2)\n",
            "Requirement already satisfied: charset-normalizer<4,>=2 in /usr/local/lib/python3.10/dist-packages (from requests>=2.1.0->tldextract->scrapy) (3.4.0)\n",
            "Requirement already satisfied: urllib3<3,>=1.21.1 in /usr/local/lib/python3.10/dist-packages (from requests>=2.1.0->tldextract->scrapy) (2.2.3)\n",
            "Requirement already satisfied: certifi>=2017.4.17 in /usr/local/lib/python3.10/dist-packages (from requests>=2.1.0->tldextract->scrapy) (2024.8.30)\n"
          ]
        }
      ]
    },
    {
      "cell_type": "code",
      "source": [
        "# Instala las dependencias necesarias\n",
        "!apt-get update\n",
        "!apt-get install -y chromium-chromedriver\n",
        "\n",
        "# Configuración de variables de entorno\n",
        "import os\n",
        "os.environ[\"PATH\"] += \":/usr/lib/chromium-browser/\"\n"
      ],
      "metadata": {
        "colab": {
          "base_uri": "https://localhost:8080/"
        },
        "id": "QH1oSEc8XkWF",
        "outputId": "4ef2c0fc-a2f1-463e-852b-0c10fbc341a2"
      },
      "execution_count": null,
      "outputs": [
        {
          "output_type": "stream",
          "name": "stdout",
          "text": [
            "\r0% [Working]\r            \rHit:1 http://security.ubuntu.com/ubuntu jammy-security InRelease\n",
            "\r0% [Connecting to archive.ubuntu.com (91.189.91.83)] [Connected to cloud.r-project.org (52.85.151.8)\r                                                                                                    \rHit:2 http://archive.ubuntu.com/ubuntu jammy InRelease\n",
            "\r0% [Waiting for headers] [Connected to cloud.r-project.org (52.85.151.8)] [Connected to r2u.stat.ill\r                                                                                                    \rHit:3 http://archive.ubuntu.com/ubuntu jammy-updates InRelease\n",
            "\r0% [Waiting for headers] [Connected to cloud.r-project.org (52.85.151.8)] [Connected to r2u.stat.ill\r                                                                                                    \rHit:4 https://cloud.r-project.org/bin/linux/ubuntu jammy-cran40/ InRelease\n",
            "\r0% [Waiting for headers] [Connected to r2u.stat.illinois.edu (192.17.190.167)] [Waiting for headers]\r                                                                                                    \rHit:5 http://archive.ubuntu.com/ubuntu jammy-backports InRelease\n",
            "\r0% [Connected to r2u.stat.illinois.edu (192.17.190.167)] [Waiting for headers] [Connecting to ppa.la\r                                                                                                    \rHit:6 https://developer.download.nvidia.com/compute/cuda/repos/ubuntu2204/x86_64  InRelease\n",
            "\r                                                                                                    \r0% [Waiting for headers] [Connecting to ppa.launchpadcontent.net (185.125.190.80)]\r                                                                                  \rIgn:7 https://r2u.stat.illinois.edu/ubuntu jammy InRelease\n",
            "Hit:8 https://r2u.stat.illinois.edu/ubuntu jammy Release\n",
            "Hit:9 https://ppa.launchpadcontent.net/deadsnakes/ppa/ubuntu jammy InRelease\n",
            "Hit:10 https://ppa.launchpadcontent.net/graphics-drivers/ppa/ubuntu jammy InRelease\n",
            "Hit:11 https://ppa.launchpadcontent.net/ubuntugis/ppa/ubuntu jammy InRelease\n",
            "Reading package lists... Done\n",
            "W: Skipping acquire of configured file 'main/source/Sources' as repository 'https://r2u.stat.illinois.edu/ubuntu jammy InRelease' does not seem to provide it (sources.list entry misspelt?)\n",
            "Reading package lists... Done\n",
            "Building dependency tree... Done\n",
            "Reading state information... Done\n",
            "chromium-chromedriver is already the newest version (1:85.0.4183.83-0ubuntu2.22.04.1).\n",
            "0 upgraded, 0 newly installed, 0 to remove and 50 not upgraded.\n"
          ]
        }
      ]
    },
    {
      "cell_type": "code",
      "source": [
        "from selenium import webdriver\n",
        "from selenium.webdriver.common.by import By\n",
        "from selenium.webdriver.common.keys import Keys\n",
        "from selenium.webdriver.support.ui import WebDriverWait\n",
        "from selenium.webdriver.support import expected_conditions as EC\n",
        "from bs4 import BeautifulSoup\n",
        "import time\n",
        "import random\n",
        "\n",
        "# Configurar opciones de Chrome en modo headless\n",
        "chrome_options = webdriver.ChromeOptions()\n",
        "chrome_options.add_argument(\"--headless\")  # Ejecutar en modo headless para no mostrar la interfaz\n",
        "chrome_options.add_argument(\"--no-sandbox\")\n",
        "chrome_options.add_argument(\"--disable-dev-shm-usage\")\n",
        "chrome_options.add_argument(\"user-agent=Mozilla/5.0 (Windows NT 10.0; Win64; x64) AppleWebKit/537.36 (KHTML, like Gecko) Chrome/91.0.4472.124 Safari/537.36\")\n",
        "\n",
        "# Inicializar el WebDriver\n",
        "driver = webdriver.Chrome(options=chrome_options)\n",
        "\n",
        "# Definir las categorías de productos\n",
        "productos_a_buscar = [\"celulares\", \"tablets\", \"computadores\", \"televisores\"]\n",
        "\n",
        "# Función para simular pausas entre acciones (imitando comportamiento humano)\n",
        "def esperar():\n",
        "    time.sleep(random.uniform(2, 5))\n",
        "\n",
        "# Iniciar búsqueda en Amazon\n",
        "url_base = \"https://www.amazon.com/\"\n",
        "driver.get(url_base)\n",
        "esperar()\n",
        "\n",
        "# Extraer datos de cada categoría\n",
        "for producto in productos_a_buscar:\n",
        "    try:\n",
        "        # Espera hasta que el cuadro de búsqueda esté presente en el DOM\n",
        "        search_box = WebDriverWait(driver, 10).until(\n",
        "            EC.presence_of_element_located((By.ID, \"twotabsearchtextbox\"))\n",
        "        )\n",
        "        search_box.clear()  # Limpiar el cuadro de búsqueda antes de escribir\n",
        "        search_box.send_keys(producto)\n",
        "        search_box.send_keys(Keys.RETURN)\n",
        "        esperar()\n",
        "\n",
        "        # Extraer el HTML de la página actual\n",
        "        page_html = driver.page_source\n",
        "        soup = BeautifulSoup(page_html, \"html.parser\")\n",
        "\n",
        "        # Buscar los productos en la página de resultados\n",
        "        items = soup.find_all(\"div\", {\"data-component-type\": \"s-search-result\"})\n",
        "        for item in items[:5]:  # Limitar a los primeros 5 productos por categoría\n",
        "            nombre = item.h2.text.strip() if item.h2 else \"Sin nombre\"\n",
        "            precio = item.find(\"span\", class_=\"a-offscreen\")\n",
        "            precio = precio.text.strip() if precio else \"Sin precio\"\n",
        "\n",
        "            print(f\"Producto: {nombre} - Precio: {precio}\")\n",
        "\n",
        "        esperar()\n",
        "\n",
        "    except Exception as e:\n",
        "        print(f\"Error al buscar '{producto}':\", e)\n",
        "\n",
        "# Cerrar el navegador\n",
        "driver.quit()\n"
      ],
      "metadata": {
        "colab": {
          "base_uri": "https://localhost:8080/"
        },
        "id": "JW7gpiXeb1_h",
        "outputId": "f63a735c-8829-4fb0-af42-619fcdfb9f32"
      },
      "execution_count": null,
      "outputs": [
        {
          "output_type": "stream",
          "name": "stdout",
          "text": [
            "Producto: Samsung Galaxy A15 (SM-155M/DSN), 128GB 6GB RAM, Dual SIM, Factory Unlocked GSM, International Version (Wall Charger Bundle) (Light Blue) - Precio: $161.95\n",
            "Producto: SAMSUNG Galaxy A15 5G A Series Cell Phone, 128GB Unlocked Android Smartphone, AMOLED Display, Expandable Storage, Knox Security, Super Fast Charging, US Version, 2024, Light Blue - Precio: $179.99\n",
            "Producto: Samsung Galaxy S21 Ultra 5G, US Version, 128GB, Phantom Black - Unlocked (Renewed) - Precio: $265.00\n",
            "Producto: Moto G Stylus 5G | 2024 | Unlocked | Made for US 8/256GB | 50MP Camera | Scarlet Wave - Precio: $249.99\n",
            "Producto: SAMSUNG Galaxy A13 LTE, Factory Unlocked Smartphone, Android Cell Phone, Water Resistant, 50MP Camera, US Version, 32GB, Black (Renewed) - Precio: $86.00\n",
            "Producto: Amazon Fire HD 10 tablet (newest model) built for relaxation, 10.1\" vibrant Full HD screen, octa-core processor, 3 GB RAM, 32 GB, Ocean - Precio: $74.99\n",
            "Producto: SAMSUNG Galaxy Tab A9+ Plus 11” 64GB Android Tablet, Big Screen, Quad Speakers, Upgraded Chipset, Multi Window Display, Slim, Light, Durable, Kids Friendly Design, US Version, 2024, Silver - Precio: 3 sizes\n",
            "Producto: Apple iPad (9th Generation): with A13 Bionic chip, 10.2-inch Retina Display, 64GB, Wi-Fi, 12MP front/8MP Back Camera, Touch ID, All-Day Battery Life – Space Gray - Precio: 2 sizes\n",
            "Producto: Tablet,10.1\" Android Tablet with Octa-core Processor 10GB RAM 128GB ROM HD IPS Touchscreen 8H Battery, Wi-Fi 6, BT 5.0, Dual Camera, Google Tablets 2024 - Precio: $89.99\n",
            "Producto: Amazon Fire Max 11 tablet (newest model) vivid 11” display, all-in-one for streaming, reading, and gaming, 14-hour battery life, optional stylus and keyboard, 128 GB, Gray, without lockscreen ads - Precio: $159.99\n",
            "Producto: HP 14 Laptop, Intel Celeron N4020, 4 GB RAM, 64 GB Storage, 14-inch Micro-edge HD Display, Windows 11 Home, Thin & Portable, 4K Graphics, One Year of Microsoft 365 (14-dq0040nr, Snowflake White) - Precio: 11 capacities\n",
            "Producto: HP Portable Laptop, Student and Business, 14\" HD Display, Intel Quad-Core N4120, 16GB DDR4 RAM, 64GB eMMC, 1 Year Office 365, Webcam, RJ-45, HDMI, Wi-Fi, Windows 11 Home, Silver - Precio: 5 capacities\n",
            "Producto: Acer Aspire 3 A315-24P-R7VH Slim Laptop | 15.6\" Full HD IPS Display | AMD Ryzen 3 7320U Quad-Core Processor | AMD Radeon Graphics | 8GB LPDDR5 | 128GB NVMe SSD | Wi-Fi 6 | Windows 11 Home in S Mode - Precio: 3 capacities\n",
            "Producto: HP Newest 255 G10 Laptop for Home or Work, 16GB RAM, 1TB SSD, 15.6\" Full HD, Ryzen 3 7330U (Beat Intel i5-1135G7), Ethernet Port, HDMI, USB-C, Windows 11 Pro, Business and Fun Ready (2024) - Precio: 3 capacities\n",
            "Producto: HP 17 Business Laptop, 17.3” HD+ Display, 11th Gen Intel Core i3-1125G4 Processor, 32GB RAM, 1TB SSD, Wi-Fi, HDMI, Webcam, Windows 11 Pro, Silver - Precio: 7 capacities\n",
            "Producto: INSIGNIA 50-inch Class F30 Series LED 4K UHD Smart Fire TV with Alexa Voice Remote (NS-50F301NA24) - Precio: 5 sizes\n",
            "Producto: INSIGNIA 32-inch Class F20 Series Smart HD 720p Fire TV with Alexa Voice Remote (NS-32F201NA23) - Precio: 2 sizes\n",
            "Producto: VIZIO 40-inch Full HD 1080p Smart TV with DTS Virtual: X, Alexa Compatibility, Google Cast Built-in, Bluetooth Headphone Capable, (VFD40M-08 New) - Precio: 2 sizes\n",
            "Producto: Hisense 32-Inch Class A4 Series HD 720p Smart Roku TV with Alexa Compatibility (32A4HNR, 2024 Model) - Dolby Audio, Slim Bezel Design, Google Assistant - Precio: 3 sizes\n",
            "Producto: TCL 40-Inch Class S3 1080p LED Smart TV with Fire TV (40S350F, 2023 Model), Alexa Built-in, Apple AirPlay Compatibility, Streaming FHD Television,Black - Precio: 2 sizes\n"
          ]
        }
      ]
    },
    {
      "cell_type": "code",
      "source": [
        "from selenium import webdriver\n",
        "from selenium.webdriver.common.by import By\n",
        "from selenium.webdriver.support.ui import WebDriverWait\n",
        "from selenium.webdriver.support import expected_conditions as EC\n",
        "from bs4 import BeautifulSoup\n",
        "import time\n",
        "\n",
        "# Configurar opciones de Chrome en modo headless\n",
        "chrome_options = webdriver.ChromeOptions()\n",
        "chrome_options.add_argument(\"--headless\")  # Ejecutar en modo headless para no mostrar la interfaz\n",
        "chrome_options.add_argument(\"--no-sandbox\")\n",
        "chrome_options.add_argument(\"--disable-dev-shm-usage\")\n",
        "chrome_options.add_argument(\"user-agent=Mozilla/5.0 (Windows NT 10.0; Win64; x64) AppleWebKit/537.36 (KHTML, like Gecko) Chrome/91.0.4472.124 Safari/537.36\")\n",
        "\n",
        "# Inicializar el WebDriver\n",
        "driver = webdriver.Chrome(options=chrome_options)\n",
        "\n",
        "# URL del producto específico en Amazon\n",
        "url_producto = \"https://www.amazon.com/Loona-inteligente-avanzado-habilitado-reconocimiento/dp/B0DFWPQQ43\"\n",
        "driver.get(url_producto)\n",
        "\n",
        "# Esperar hasta que el nombre del producto esté presente en la página\n",
        "try:\n",
        "    # Espera a que cargue el título del producto\n",
        "    nombre_element = WebDriverWait(driver, 10).until(\n",
        "        EC.presence_of_element_located((By.ID, \"productTitle\"))\n",
        "    )\n",
        "\n",
        "    # Obtener el HTML de la página\n",
        "    page_html = driver.page_source\n",
        "    soup = BeautifulSoup(page_html, \"html.parser\")\n",
        "\n",
        "    # Extraer el nombre del producto\n",
        "    nombre = soup.find(\"span\", id=\"productTitle\").get_text(strip=True)\n",
        "\n",
        "    # Extraer el precio del producto\n",
        "    precio_element = soup.find(\"span\", class_=\"a-offscreen\")\n",
        "    precio = precio_element.get_text(strip=True) if precio_element else \"No disponible\"\n",
        "\n",
        "    # Extraer la descripción breve del producto\n",
        "    descripcion_element = soup.find(\"div\", id=\"feature-bullets\")\n",
        "    descripcion = descripcion_element.get_text(strip=True) if descripcion_element else \"No disponible\"\n",
        "\n",
        "    # Imprimir los datos del producto\n",
        "    print(\"Nombre del producto:\", nombre)\n",
        "    print(\"Precio:\", precio)\n",
        "    print(\"Descripción:\", descripcion)\n",
        "\n",
        "except Exception as e:\n",
        "    print(\"Error al extraer información:\", e)\n",
        "\n",
        "# Cerrar el navegador\n",
        "driver.quit()\n"
      ],
      "metadata": {
        "colab": {
          "base_uri": "https://localhost:8080/"
        },
        "id": "vwgGAH3EdpV_",
        "outputId": "8c25948d-477d-446f-d459-c6c8a41c3fc6"
      },
      "execution_count": null,
      "outputs": [
        {
          "output_type": "stream",
          "name": "stdout",
          "text": [
            "Nombre del producto: Loona: The Most Advanced Smart Robot Pet Dog - Chat GPT-4o Enabled with Voice Command & Gesture Recognition - Top Boys and Girls Gifts for 2024 - V22 - Without Charging Dock\n",
            "Precio: $449.00\n",
            "Descripción: 🌟V22 Update🚀 NEW UPDATE JUST DROPPED! Experience 3X Faster GPT Faster Replies, Smoother Chats! Now you can even customize your own unique Loona: This update introduces a reward and punishment mechanism, marking the beginning of Loona's personalized development. We hope that Loona can become your ideal, unique pet. This change requires our joint efforts for iteration and optimization.🤖 Smart and Interactive 🧠Loona is like no other pet you've seen. With a high-definition RGB camera, Loona sees and understands your world. Loona recognizes faces, understands your gestures, and even plays fetch! Loona is just like a real pet, but with a tech twist.🚀 Robust Navigation 🌟Thanks to Loona‘s 3D-ToF camera, Loona effortlessly navigates your home, avoiding obstacles with ease. Loona is a pro at trajectory planning, ensuring Loona moves freely while keeping your space safe.🗣️ Voice Command Enabled 🎤Loona is not just a good listener; also a great conversationalist! Powered by Amazon Lex & ChatGPT, Loona recognizes your voice commands and responds in real-time. Plus, Loona keeps your information secure, so you can chat with peace of mind.🕹️ Endless Playtime 🎮Loona is always up for playtime! Loona can chase laser pens, fetch balls, and even interact with objects in your home. But it doesn't end there—Loona's app offers a world of games and quizzes to keep the fun going.📷 Home Monitoring 🏠Loona doubles as a home monitor with her camera and speaker. Keep an eye on your home when you're away and ensure everything's in order.›See more product details\n"
          ]
        }
      ]
    },
    {
      "cell_type": "code",
      "source": [
        "from selenium import webdriver\n",
        "from selenium.webdriver.common.by import By\n",
        "from selenium.webdriver.support.ui import WebDriverWait\n",
        "from selenium.webdriver.support import expected_conditions as EC\n",
        "from bs4 import BeautifulSoup\n",
        "import time\n",
        "\n",
        "# Configurar opciones de Chrome en modo headless\n",
        "chrome_options = webdriver.ChromeOptions()\n",
        "chrome_options.add_argument(\"--headless\")  # Ejecutar en modo headless para no mostrar la interfaz\n",
        "chrome_options.add_argument(\"--no-sandbox\")\n",
        "chrome_options.add_argument(\"--disable-dev-shm-usage\")\n",
        "chrome_options.add_argument(\"user-agent=Mozilla/5.0 (Windows NT 10.0; Win64; x64) AppleWebKit/537.36 (KHTML, like Gecko) Chrome/91.0.4472.124 Safari/537.36\")\n",
        "\n",
        "# Inicializar el WebDriver\n",
        "driver = webdriver.Chrome(options=chrome_options)\n",
        "\n",
        "# URL del nuevo producto específico en Amazon\n",
        "url_producto = \"https://www.amazon.com/-/es/EMOPET-Desk-Robot-Companion-personalidad/dp/B0DG8JPL6J\"\n",
        "driver.get(url_producto)\n",
        "\n",
        "# Esperar hasta que el nombre del producto esté presente en la página\n",
        "try:\n",
        "    # Espera a que cargue el título del producto\n",
        "    nombre_element = WebDriverWait(driver, 10).until(\n",
        "        EC.presence_of_element_located((By.ID, \"productTitle\"))\n",
        "    )\n",
        "\n",
        "    # Obtener el HTML de la página\n",
        "    page_html = driver.page_source\n",
        "    soup = BeautifulSoup(page_html, \"html.parser\")\n",
        "\n",
        "    # Extraer el nombre del producto\n",
        "    nombre = soup.find(\"span\", id=\"productTitle\").get_text(strip=True)\n",
        "\n",
        "    # Extraer el precio del producto\n",
        "    precio_element = soup.find(\"span\", class_=\"a-offscreen\")\n",
        "    precio = precio_element.get_text(strip=True) if precio_element else \"No disponible\"\n",
        "\n",
        "    # Extraer la descripción breve del producto\n",
        "    descripcion_element = soup.find(\"div\", id=\"feature-bullets\")\n",
        "    descripcion = descripcion_element.get_text(strip=True) if descripcion_element else \"No disponible\"\n",
        "\n",
        "    # Imprimir los datos del producto\n",
        "    print(\"Nombre del producto:\", nombre)\n",
        "    print(\"Precio:\", precio)\n",
        "    print(\"Descripción:\", descripcion)\n",
        "\n",
        "except Exception as e:\n",
        "    print(\"Error al extraer información:\", e)\n",
        "\n",
        "# Cerrar el navegador\n",
        "driver.quit()\n"
      ],
      "metadata": {
        "colab": {
          "base_uri": "https://localhost:8080/"
        },
        "id": "VLLqFUZhe89d",
        "outputId": "ec4763cb-cedb-4d61-c070-f13404c36ccb"
      },
      "execution_count": null,
      "outputs": [
        {
          "output_type": "stream",
          "name": "stdout",
          "text": [
            "Nombre del producto: AI Desk Robot Companion - ChatGPT habilitado con comandos de voz y función de baile, robot interactivo para mascotas con personalidad, viene con estación de carga para el hogar\n",
            "Precio: US$459.99\n",
            "Descripción: Sobre este artículoConoce a EMO, tu nuevo compañero de escritorio: saluda a EMO, el robot de escritorio definitivo que está aquí para animar tu espacio de trabajo. Con el modelo de IA incorporado y la cámara gran angular, puede verte, escucharte y entenderte, al igual que una mascota realComandos de voz habilitados: el robot EMO viene con una serie de comandos de voz integrados, puedes hablar y jugar con EMO como con una mascota real. Y con la capacidad de conectarse a la red y con tecnología de ChatGPT, puede tener conversaciones más complejas con EMO como hablar con un amigo experto en tecnología que siempre está dispuesto a chatear. Nota: el volumen de EMO es ajustable a través de la aplicación EMOPETFiesta de baile y tiempo de juego: ¡EMO está listo para la fiesta! Simplemente sube tus canciones favoritas y dile a EMO que baile contigo, será tu compañero de fiesta perfecto para el escritorio. Además, EMO admite conectarse a la aplicación EMO para una variedad de juegos y actividades interactivas. Ya sea que estés solo o con amigos, EMO garantiza que siempre estés entretenidoDiversión sin fin: el robot EMO cuenta con múltiples sensores integrados para traer más interacciones contigo, puedes frotarlo, sacudirlo e incluso \"disparar\" con el gesto de los dedos, haciendo que se sienta como si estuvieras jugando con una mascota real. Incluso se \"enferma\" con los cambios climáticos, por lo que puedes cuidarlo como lo harías con un amigo peludoEstación de carga automática para el hogar: la EMO GO HOME viene con una estación de carga que garantiza que el robot EMO siempre esté encendido para traer alegría a ti y a tu familia. EMO encontrará automáticamente la estación de carga a través de su cámara AI y sistema de sensores, ¡totalmente manos libres! También viene con una valla para el hogar para mantener la EMO en el área fija mientras puedes concentrarte en tus cosas sin preocuparte en absolutoDisfruta de cada momento con EMO: con la aplicación EMOPET tiene un sistema de logros único que ayuda a registrar todos los momentos grandes y pequeños que has pasado con EMO, como nuevos movimientos de baile, una nueva expresión, celebración de tu cumpleaños y más... Disfruta de todos los eventos de la vida con tu nuevo mejor amigoElección de regalo perfecta: ¿Buscas un regalo excepcional? El robot EMO es una opción destacada con sus características inteligentes y diversión sin fin. Perfecto para entusiastas de la tecnología, adultos o niños, este robot de escritorio interactivo ofrece una mezcla única de entretenimiento y conexión emocional. Seguro que traerá sonrisas y alegría a cualquier ocasión›Ver los detalles del producto\n"
          ]
        }
      ]
    }
  ]
}